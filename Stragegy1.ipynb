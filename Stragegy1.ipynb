{
  "nbformat": 4,
  "nbformat_minor": 0,
  "metadata": {
    "colab": {
      "provenance": [],
      "authorship_tag": "ABX9TyOP32RAEuprb2+V3yoDfNA/",
      "include_colab_link": true
    },
    "kernelspec": {
      "name": "python3",
      "display_name": "Python 3"
    },
    "language_info": {
      "name": "python"
    }
  },
  "cells": [
    {
      "cell_type": "markdown",
      "metadata": {
        "id": "view-in-github",
        "colab_type": "text"
      },
      "source": [
        "<a href=\"https://colab.research.google.com/github/Amlan05/EquityMeanReversion/blob/main/Stragegy1.ipynb\" target=\"_parent\"><img src=\"https://colab.research.google.com/assets/colab-badge.svg\" alt=\"Open In Colab\"/></a>"
      ]
    },
    {
      "cell_type": "code",
      "execution_count": null,
      "metadata": {
        "id": "m2uCIC_0su9b"
      },
      "outputs": [],
      "source": [
        "import pandas as pd\n",
        "import numpy as np\n",
        "import matplotlib.pyplot as plt"
      ]
    },
    {
      "cell_type": "code",
      "source": [
        "file_path = '/content/sbi_life_daily.xlsx'"
      ],
      "metadata": {
        "id": "sSndQapeiNjf"
      },
      "execution_count": null,
      "outputs": []
    },
    {
      "cell_type": "code",
      "source": [
        "data = pd.read_excel(file_path, sheet_name=1, engine='openpyxl')"
      ],
      "metadata": {
        "id": "n8wkROAgQvKC"
      },
      "execution_count": null,
      "outputs": []
    },
    {
      "cell_type": "code",
      "source": [
        "data = data[::-1]\n"
      ],
      "metadata": {
        "id": "c8s2-1-U1lVg"
      },
      "execution_count": null,
      "outputs": []
    },
    {
      "cell_type": "code",
      "source": [
        "data['Date'] = pd.to_datetime(data['Date'], format='%Y-%m-%d')\n",
        "data.set_index('Date', inplace=True)"
      ],
      "metadata": {
        "id": "jxA5opRMQ-Wf"
      },
      "execution_count": null,
      "outputs": []
    },
    {
      "cell_type": "code",
      "source": [
        "data.head()"
      ],
      "metadata": {
        "colab": {
          "base_uri": "https://localhost:8080/",
          "height": 238
        },
        "id": "XfmVxcaCRDX_",
        "outputId": "e90dd247-77b5-4be0-eb71-840da9ea6381"
      },
      "execution_count": null,
      "outputs": [
        {
          "output_type": "execute_result",
          "data": {
            "text/plain": [
              "              Open    High     Low   Close   Volume\n",
              "Date                                               \n",
              "2020-01-20  222.48  245.85  215.75  219.93  6430036\n",
              "2020-01-21  219.85  219.85  212.62  214.10   353956\n",
              "2020-01-22  214.00  215.85  210.62  212.88   897394\n",
              "2020-01-23  211.52  214.00  196.50  201.82  5804348\n",
              "2020-01-24  200.00  202.00  195.15  198.32   618194"
            ],
            "text/html": [
              "\n",
              "  <div id=\"df-f9f80362-6ec9-4977-ae2a-9df1cd2468bf\" class=\"colab-df-container\">\n",
              "    <div>\n",
              "<style scoped>\n",
              "    .dataframe tbody tr th:only-of-type {\n",
              "        vertical-align: middle;\n",
              "    }\n",
              "\n",
              "    .dataframe tbody tr th {\n",
              "        vertical-align: top;\n",
              "    }\n",
              "\n",
              "    .dataframe thead th {\n",
              "        text-align: right;\n",
              "    }\n",
              "</style>\n",
              "<table border=\"1\" class=\"dataframe\">\n",
              "  <thead>\n",
              "    <tr style=\"text-align: right;\">\n",
              "      <th></th>\n",
              "      <th>Open</th>\n",
              "      <th>High</th>\n",
              "      <th>Low</th>\n",
              "      <th>Close</th>\n",
              "      <th>Volume</th>\n",
              "    </tr>\n",
              "    <tr>\n",
              "      <th>Date</th>\n",
              "      <th></th>\n",
              "      <th></th>\n",
              "      <th></th>\n",
              "      <th></th>\n",
              "      <th></th>\n",
              "    </tr>\n",
              "  </thead>\n",
              "  <tbody>\n",
              "    <tr>\n",
              "      <th>2020-01-20</th>\n",
              "      <td>222.48</td>\n",
              "      <td>245.85</td>\n",
              "      <td>215.75</td>\n",
              "      <td>219.93</td>\n",
              "      <td>6430036</td>\n",
              "    </tr>\n",
              "    <tr>\n",
              "      <th>2020-01-21</th>\n",
              "      <td>219.85</td>\n",
              "      <td>219.85</td>\n",
              "      <td>212.62</td>\n",
              "      <td>214.10</td>\n",
              "      <td>353956</td>\n",
              "    </tr>\n",
              "    <tr>\n",
              "      <th>2020-01-22</th>\n",
              "      <td>214.00</td>\n",
              "      <td>215.85</td>\n",
              "      <td>210.62</td>\n",
              "      <td>212.88</td>\n",
              "      <td>897394</td>\n",
              "    </tr>\n",
              "    <tr>\n",
              "      <th>2020-01-23</th>\n",
              "      <td>211.52</td>\n",
              "      <td>214.00</td>\n",
              "      <td>196.50</td>\n",
              "      <td>201.82</td>\n",
              "      <td>5804348</td>\n",
              "    </tr>\n",
              "    <tr>\n",
              "      <th>2020-01-24</th>\n",
              "      <td>200.00</td>\n",
              "      <td>202.00</td>\n",
              "      <td>195.15</td>\n",
              "      <td>198.32</td>\n",
              "      <td>618194</td>\n",
              "    </tr>\n",
              "  </tbody>\n",
              "</table>\n",
              "</div>\n",
              "    <div class=\"colab-df-buttons\">\n",
              "\n",
              "  <div class=\"colab-df-container\">\n",
              "    <button class=\"colab-df-convert\" onclick=\"convertToInteractive('df-f9f80362-6ec9-4977-ae2a-9df1cd2468bf')\"\n",
              "            title=\"Convert this dataframe to an interactive table.\"\n",
              "            style=\"display:none;\">\n",
              "\n",
              "  <svg xmlns=\"http://www.w3.org/2000/svg\" height=\"24px\" viewBox=\"0 -960 960 960\">\n",
              "    <path d=\"M120-120v-720h720v720H120Zm60-500h600v-160H180v160Zm220 220h160v-160H400v160Zm0 220h160v-160H400v160ZM180-400h160v-160H180v160Zm440 0h160v-160H620v160ZM180-180h160v-160H180v160Zm440 0h160v-160H620v160Z\"/>\n",
              "  </svg>\n",
              "    </button>\n",
              "\n",
              "  <style>\n",
              "    .colab-df-container {\n",
              "      display:flex;\n",
              "      gap: 12px;\n",
              "    }\n",
              "\n",
              "    .colab-df-convert {\n",
              "      background-color: #E8F0FE;\n",
              "      border: none;\n",
              "      border-radius: 50%;\n",
              "      cursor: pointer;\n",
              "      display: none;\n",
              "      fill: #1967D2;\n",
              "      height: 32px;\n",
              "      padding: 0 0 0 0;\n",
              "      width: 32px;\n",
              "    }\n",
              "\n",
              "    .colab-df-convert:hover {\n",
              "      background-color: #E2EBFA;\n",
              "      box-shadow: 0px 1px 2px rgba(60, 64, 67, 0.3), 0px 1px 3px 1px rgba(60, 64, 67, 0.15);\n",
              "      fill: #174EA6;\n",
              "    }\n",
              "\n",
              "    .colab-df-buttons div {\n",
              "      margin-bottom: 4px;\n",
              "    }\n",
              "\n",
              "    [theme=dark] .colab-df-convert {\n",
              "      background-color: #3B4455;\n",
              "      fill: #D2E3FC;\n",
              "    }\n",
              "\n",
              "    [theme=dark] .colab-df-convert:hover {\n",
              "      background-color: #434B5C;\n",
              "      box-shadow: 0px 1px 3px 1px rgba(0, 0, 0, 0.15);\n",
              "      filter: drop-shadow(0px 1px 2px rgba(0, 0, 0, 0.3));\n",
              "      fill: #FFFFFF;\n",
              "    }\n",
              "  </style>\n",
              "\n",
              "    <script>\n",
              "      const buttonEl =\n",
              "        document.querySelector('#df-f9f80362-6ec9-4977-ae2a-9df1cd2468bf button.colab-df-convert');\n",
              "      buttonEl.style.display =\n",
              "        google.colab.kernel.accessAllowed ? 'block' : 'none';\n",
              "\n",
              "      async function convertToInteractive(key) {\n",
              "        const element = document.querySelector('#df-f9f80362-6ec9-4977-ae2a-9df1cd2468bf');\n",
              "        const dataTable =\n",
              "          await google.colab.kernel.invokeFunction('convertToInteractive',\n",
              "                                                    [key], {});\n",
              "        if (!dataTable) return;\n",
              "\n",
              "        const docLinkHtml = 'Like what you see? Visit the ' +\n",
              "          '<a target=\"_blank\" href=https://colab.research.google.com/notebooks/data_table.ipynb>data table notebook</a>'\n",
              "          + ' to learn more about interactive tables.';\n",
              "        element.innerHTML = '';\n",
              "        dataTable['output_type'] = 'display_data';\n",
              "        await google.colab.output.renderOutput(dataTable, element);\n",
              "        const docLink = document.createElement('div');\n",
              "        docLink.innerHTML = docLinkHtml;\n",
              "        element.appendChild(docLink);\n",
              "      }\n",
              "    </script>\n",
              "  </div>\n",
              "\n",
              "\n",
              "<div id=\"df-3f0b3032-89c8-44c1-af16-018d97e3caaa\">\n",
              "  <button class=\"colab-df-quickchart\" onclick=\"quickchart('df-3f0b3032-89c8-44c1-af16-018d97e3caaa')\"\n",
              "            title=\"Suggest charts\"\n",
              "            style=\"display:none;\">\n",
              "\n",
              "<svg xmlns=\"http://www.w3.org/2000/svg\" height=\"24px\"viewBox=\"0 0 24 24\"\n",
              "     width=\"24px\">\n",
              "    <g>\n",
              "        <path d=\"M19 3H5c-1.1 0-2 .9-2 2v14c0 1.1.9 2 2 2h14c1.1 0 2-.9 2-2V5c0-1.1-.9-2-2-2zM9 17H7v-7h2v7zm4 0h-2V7h2v10zm4 0h-2v-4h2v4z\"/>\n",
              "    </g>\n",
              "</svg>\n",
              "  </button>\n",
              "\n",
              "<style>\n",
              "  .colab-df-quickchart {\n",
              "      --bg-color: #E8F0FE;\n",
              "      --fill-color: #1967D2;\n",
              "      --hover-bg-color: #E2EBFA;\n",
              "      --hover-fill-color: #174EA6;\n",
              "      --disabled-fill-color: #AAA;\n",
              "      --disabled-bg-color: #DDD;\n",
              "  }\n",
              "\n",
              "  [theme=dark] .colab-df-quickchart {\n",
              "      --bg-color: #3B4455;\n",
              "      --fill-color: #D2E3FC;\n",
              "      --hover-bg-color: #434B5C;\n",
              "      --hover-fill-color: #FFFFFF;\n",
              "      --disabled-bg-color: #3B4455;\n",
              "      --disabled-fill-color: #666;\n",
              "  }\n",
              "\n",
              "  .colab-df-quickchart {\n",
              "    background-color: var(--bg-color);\n",
              "    border: none;\n",
              "    border-radius: 50%;\n",
              "    cursor: pointer;\n",
              "    display: none;\n",
              "    fill: var(--fill-color);\n",
              "    height: 32px;\n",
              "    padding: 0;\n",
              "    width: 32px;\n",
              "  }\n",
              "\n",
              "  .colab-df-quickchart:hover {\n",
              "    background-color: var(--hover-bg-color);\n",
              "    box-shadow: 0 1px 2px rgba(60, 64, 67, 0.3), 0 1px 3px 1px rgba(60, 64, 67, 0.15);\n",
              "    fill: var(--button-hover-fill-color);\n",
              "  }\n",
              "\n",
              "  .colab-df-quickchart-complete:disabled,\n",
              "  .colab-df-quickchart-complete:disabled:hover {\n",
              "    background-color: var(--disabled-bg-color);\n",
              "    fill: var(--disabled-fill-color);\n",
              "    box-shadow: none;\n",
              "  }\n",
              "\n",
              "  .colab-df-spinner {\n",
              "    border: 2px solid var(--fill-color);\n",
              "    border-color: transparent;\n",
              "    border-bottom-color: var(--fill-color);\n",
              "    animation:\n",
              "      spin 1s steps(1) infinite;\n",
              "  }\n",
              "\n",
              "  @keyframes spin {\n",
              "    0% {\n",
              "      border-color: transparent;\n",
              "      border-bottom-color: var(--fill-color);\n",
              "      border-left-color: var(--fill-color);\n",
              "    }\n",
              "    20% {\n",
              "      border-color: transparent;\n",
              "      border-left-color: var(--fill-color);\n",
              "      border-top-color: var(--fill-color);\n",
              "    }\n",
              "    30% {\n",
              "      border-color: transparent;\n",
              "      border-left-color: var(--fill-color);\n",
              "      border-top-color: var(--fill-color);\n",
              "      border-right-color: var(--fill-color);\n",
              "    }\n",
              "    40% {\n",
              "      border-color: transparent;\n",
              "      border-right-color: var(--fill-color);\n",
              "      border-top-color: var(--fill-color);\n",
              "    }\n",
              "    60% {\n",
              "      border-color: transparent;\n",
              "      border-right-color: var(--fill-color);\n",
              "    }\n",
              "    80% {\n",
              "      border-color: transparent;\n",
              "      border-right-color: var(--fill-color);\n",
              "      border-bottom-color: var(--fill-color);\n",
              "    }\n",
              "    90% {\n",
              "      border-color: transparent;\n",
              "      border-bottom-color: var(--fill-color);\n",
              "    }\n",
              "  }\n",
              "</style>\n",
              "\n",
              "  <script>\n",
              "    async function quickchart(key) {\n",
              "      const quickchartButtonEl =\n",
              "        document.querySelector('#' + key + ' button');\n",
              "      quickchartButtonEl.disabled = true;  // To prevent multiple clicks.\n",
              "      quickchartButtonEl.classList.add('colab-df-spinner');\n",
              "      try {\n",
              "        const charts = await google.colab.kernel.invokeFunction(\n",
              "            'suggestCharts', [key], {});\n",
              "      } catch (error) {\n",
              "        console.error('Error during call to suggestCharts:', error);\n",
              "      }\n",
              "      quickchartButtonEl.classList.remove('colab-df-spinner');\n",
              "      quickchartButtonEl.classList.add('colab-df-quickchart-complete');\n",
              "    }\n",
              "    (() => {\n",
              "      let quickchartButtonEl =\n",
              "        document.querySelector('#df-3f0b3032-89c8-44c1-af16-018d97e3caaa button');\n",
              "      quickchartButtonEl.style.display =\n",
              "        google.colab.kernel.accessAllowed ? 'block' : 'none';\n",
              "    })();\n",
              "  </script>\n",
              "</div>\n",
              "\n",
              "    </div>\n",
              "  </div>\n"
            ],
            "application/vnd.google.colaboratory.intrinsic+json": {
              "type": "dataframe",
              "variable_name": "data",
              "summary": "{\n  \"name\": \"data\",\n  \"rows\": 1243,\n  \"fields\": [\n    {\n      \"column\": \"Date\",\n      \"properties\": {\n        \"dtype\": \"date\",\n        \"min\": \"2020-01-20 00:00:00\",\n        \"max\": \"2025-01-17 00:00:00\",\n        \"num_unique_values\": 1243,\n        \"samples\": [\n          \"2023-09-01 00:00:00\",\n          \"2024-02-01 00:00:00\",\n          \"2022-09-29 00:00:00\"\n        ],\n        \"semantic_type\": \"\",\n        \"description\": \"\"\n      }\n    },\n    {\n      \"column\": \"Open\",\n      \"properties\": {\n        \"dtype\": \"number\",\n        \"std\": 604.8415131339864,\n        \"min\": 108.0,\n        \"max\": 2915.05,\n        \"num_unique_values\": 1047,\n        \"samples\": [\n          180.3,\n          247.5,\n          1247.85\n        ],\n        \"semantic_type\": \"\",\n        \"description\": \"\"\n      }\n    },\n    {\n      \"column\": \"High\",\n      \"properties\": {\n        \"dtype\": \"number\",\n        \"std\": 620.0993961526945,\n        \"min\": 111.72,\n        \"max\": 2979.45,\n        \"num_unique_values\": 1092,\n        \"samples\": [\n          164.2,\n          184.25,\n          124.75\n        ],\n        \"semantic_type\": \"\",\n        \"description\": \"\"\n      }\n    },\n    {\n      \"column\": \"Low\",\n      \"properties\": {\n        \"dtype\": \"number\",\n        \"std\": 586.4909371048452,\n        \"min\": 104.5,\n        \"max\": 2806.7,\n        \"num_unique_values\": 1066,\n        \"samples\": [\n          163.18,\n          600.0,\n          142.5\n        ],\n        \"semantic_type\": \"\",\n        \"description\": \"\"\n      }\n    },\n    {\n      \"column\": \"Close\",\n      \"properties\": {\n        \"dtype\": \"number\",\n        \"std\": 602.0749309433246,\n        \"min\": 108.0,\n        \"max\": 2863.6,\n        \"num_unique_values\": 1148,\n        \"samples\": [\n          170.02,\n          155.9,\n          594.33\n        ],\n        \"semantic_type\": \"\",\n        \"description\": \"\"\n      }\n    },\n    {\n      \"column\": \"Volume\",\n      \"properties\": {\n        \"dtype\": \"number\",\n        \"std\": 4435047,\n        \"min\": 77918,\n        \"max\": 52923024,\n        \"num_unique_values\": 1243,\n        \"samples\": [\n          7614296,\n          4947657,\n          2939112\n        ],\n        \"semantic_type\": \"\",\n        \"description\": \"\"\n      }\n    }\n  ]\n}"
            }
          },
          "metadata": {},
          "execution_count": 387
        }
      ]
    },
    {
      "cell_type": "code",
      "source": [
        "# RSI Calculation\n",
        "def calculate_rsi(data, period=14):\n",
        "    delta = data['Close'].diff()\n",
        "    gain = (delta.where(delta > 0, 0)).rolling(window=period).mean()\n",
        "    loss = (-delta.where(delta < 0, 0)).rolling(window=period).mean()\n",
        "    rs = gain / loss\n",
        "    rsi = 100 - (100 / (1 + rs))\n",
        "    return rsi\n",
        "\n",
        "data['RSI'] = calculate_rsi(data)\n"
      ],
      "metadata": {
        "id": "wD1k7JxaSTm9"
      },
      "execution_count": null,
      "outputs": []
    },
    {
      "cell_type": "code",
      "source": [
        "# MACD Calculation\n",
        "data['EMA_12'] = data['Close'].ewm(span=12, adjust=False).mean()\n",
        "data['EMA_26'] = data['Close'].ewm(span=26, adjust=False).mean()\n",
        "data['MACD'] = data['EMA_12'] - data['EMA_26']\n",
        "data['Signal_Line'] = data['MACD'].ewm(span=9, adjust=False).mean()\n",
        "data['MACD_Histogram'] = data['MACD'] - data['Signal_Line']"
      ],
      "metadata": {
        "id": "MSq6WhQZX5BI"
      },
      "execution_count": null,
      "outputs": []
    },
    {
      "cell_type": "code",
      "source": [
        "# Calculate True Range (TR)\n",
        "data['Previous_Close'] = data['Close'].shift(1)\n",
        "data['True_Range'] = data[['High', 'Low', 'Close', 'Previous_Close']].apply(\n",
        "    lambda row: max(\n",
        "        row['High'] - row['Low'],\n",
        "        abs(row['High'] - row['Previous_Close']),\n",
        "        abs(row['Low'] - row['Previous_Close'])\n",
        "    ), axis=1\n",
        ")\n",
        "\n",
        "# Calculate ATR (14-period rolling mean of True Range)\n",
        "data['ATR'] = data['True_Range'].rolling(window=14).mean()\n",
        "\n"
      ],
      "metadata": {
        "id": "PuRQGHnlYbdb"
      },
      "execution_count": null,
      "outputs": []
    },
    {
      "cell_type": "code",
      "source": [
        "# Bollinger Bands\n",
        "data['50_MA'] = data['Close'].rolling(window=50).mean()\n",
        "data['50_STD'] = data['Close'].rolling(window=50).std()\n",
        "data['Upper_BB'] = data['50_MA'] + (2 * data['50_STD'])\n",
        "data['Lower_BB'] = data['50_MA'] - (2 * data['50_STD'])"
      ],
      "metadata": {
        "id": "DMLQnf-9YgrN"
      },
      "execution_count": null,
      "outputs": []
    },
    {
      "cell_type": "code",
      "source": [
        "# Moving Averages\n",
        "data['100_MA'] = data['Close'].rolling(window=100).mean()\n",
        "data['20_MA'] = data['Close'].rolling(window=20).mean()\n",
        "\n",
        "# Relative Volume\n",
        "data['Average_Volume'] = data['Volume'].rolling(window=20).mean()\n",
        "data['RVOL'] = data['Volume'] / data['Average_Volume']"
      ],
      "metadata": {
        "id": "sq_QvxLZYkmo"
      },
      "execution_count": null,
      "outputs": []
    },
    {
      "cell_type": "code",
      "source": [
        "# Price Action Logic\n",
        "def detect_price_action(row):\n",
        "    body = abs(row['Close'] - row['Open'])\n",
        "    wick_up = row['High'] - max(row['Close'], row['Open'])\n",
        "    wick_down = min(row['Close'], row['Open']) - row['Low']\n",
        "\n",
        "    if wick_up > 2 * body and wick_down < body and row['Close'] < row['Open']:\n",
        "        return 'Shooting Star'\n",
        "    elif wick_down > 2 * body and wick_up < body and row['Close'] > row['Open']:\n",
        "        return 'Hammer'\n",
        "    elif body > wick_up + wick_down and row['RVOL'] > 1:\n",
        "        if row['Close'] < row['Open']:\n",
        "            return 'Large Body Down'\n",
        "        elif row['Close'] > row['Open']:\n",
        "            return 'Large Body Up'\n",
        "    return None\n",
        "\n",
        "data['Price_Action'] = data.apply(detect_price_action, axis=1)\n"
      ],
      "metadata": {
        "id": "8dWajRldYrN8"
      },
      "execution_count": null,
      "outputs": []
    },
    {
      "cell_type": "code",
      "source": [
        "!pip install openpyxl"
      ],
      "metadata": {
        "colab": {
          "base_uri": "https://localhost:8080/"
        },
        "id": "-mia4I7pbuko",
        "outputId": "91d01b60-e662-44b2-8ac1-c8eb2f1a8f86"
      },
      "execution_count": null,
      "outputs": [
        {
          "output_type": "stream",
          "name": "stdout",
          "text": [
            "Requirement already satisfied: openpyxl in /usr/local/lib/python3.11/dist-packages (3.1.5)\n",
            "Requirement already satisfied: et-xmlfile in /usr/local/lib/python3.11/dist-packages (from openpyxl) (2.0.0)\n"
          ]
        }
      ]
    },
    {
      "cell_type": "code",
      "source": [
        "def detect_volume_spike(row, previous_row):\n",
        "    if row['Volume'] > 2 * row['Average_Volume']:  # Sudden spike\n",
        "        if previous_row['Volume'] > row['Volume']:  # Volume decrease after spike\n",
        "            return 'False Breakout'\n",
        "        elif row['RVOL'] > 1:  # Good volume after spike\n",
        "            return 'Valid Breakout'\n",
        "    return None\n",
        "\n",
        "data['Volume_Spike'] = data.apply(\n",
        "    lambda row: detect_volume_spike(row, data.shift(1).loc[row.name]), axis=1\n",
        ")"
      ],
      "metadata": {
        "id": "hUnglANqb8HS"
      },
      "execution_count": null,
      "outputs": []
    },
    {
      "cell_type": "code",
      "source": [
        "position = 0\n",
        "entry_price = None\n",
        "stop_loss_price = None\n",
        "above_ma_volume_counter = 0"
      ],
      "metadata": {
        "id": "Hy8HZW8tZeAN"
      },
      "execution_count": null,
      "outputs": []
    },
    {
      "cell_type": "code",
      "source": [
        "data['Buy_Date'] = None\n",
        "data['Sell_Date'] = None\n",
        "data['Stop_Loss'] = None"
      ],
      "metadata": {
        "id": "N_ZXdfmWZmfN"
      },
      "execution_count": null,
      "outputs": []
    },
    {
      "cell_type": "code",
      "source": [
        "action = input(\"Enter the action (buy or sell): \").strip().lower()\n",
        "trade_date = input(\"Enter the trade date (YYYY-MM-DD): \")"
      ],
      "metadata": {
        "colab": {
          "base_uri": "https://localhost:8080/"
        },
        "id": "j5m5sTjcevw2",
        "outputId": "a379cb8b-7e79-452c-e884-d89a76c16593"
      },
      "execution_count": null,
      "outputs": [
        {
          "name": "stdout",
          "output_type": "stream",
          "text": [
            "Enter the action (buy or sell): buy\n",
            "Enter the trade date (YYYY-MM-DD): 2020-03-31\n"
          ]
        }
      ]
    },
    {
      "cell_type": "code",
      "source": [
        "entry_row = data.loc[data.index == pd.to_datetime(trade_date)]\n",
        "if not entry_row.empty:\n",
        "    print(f\"ATR on Entry Date ({trade_date}): {entry_row['ATR'].iloc[0]}\")\n",
        "else:\n",
        "    print(f\"No data found for entry date: {trade_date}\")"
      ],
      "metadata": {
        "colab": {
          "base_uri": "https://localhost:8080/"
        },
        "id": "juE_EaUU0O46",
        "outputId": "19af1960-ee77-4e86-93f5-28e3e4ce8f3b"
      },
      "execution_count": null,
      "outputs": [
        {
          "output_type": "stream",
          "name": "stdout",
          "text": [
            "ATR on Entry Date (2020-03-31): 18.802142857142854\n"
          ]
        }
      ]
    },
    {
      "cell_type": "code",
      "source": [
        "data['Rolling_Volume_Mean'] = data['Volume'].rolling(window=20).mean()\n",
        "\n",
        "# Backtesting Logic\n",
        "for index, row in data.iterrows():\n",
        "    if position == 0 and str(index.date()) == trade_date:\n",
        "        entry_atr = row['ATR']\n",
        "        if action == \"buy\":\n",
        "            entry_price = row['Close']\n",
        "            stop_loss_price = entry_price - 1.5 * entry_atr\n",
        "            position = 1\n",
        "            data.at[index, 'Buy_Date'] = entry_price\n",
        "            data.at[index, 'Stop_Loss'] = stop_loss_price\n",
        "        elif action == \"sell\":\n",
        "            entry_price = row['Close']\n",
        "            stop_loss_price = entry_price + 1.5 * entry_atr\n",
        "            position = -1\n",
        "            data.at[index, 'Sell_Date'] = entry_price\n",
        "            data.at[index, 'Stop_Loss'] = stop_loss_price\n",
        "    elif position != 0:\n",
        "        if position == 1:\n",
        "            if row['Close'] <= stop_loss_price:\n",
        "                position = 0\n",
        "                entry_price = None\n",
        "                stop_loss_price = None\n",
        "                above_ma_volume_counter = 0\n",
        "                data.at[index, 'Sell_Date'] = row['Close']\n",
        "            elif row['Close'] > row['100_MA']:\n",
        "                if row['Volume'] > data.at[index, 'Rolling_Volume_Mean']:\n",
        "                    above_ma_volume_counter += 1\n",
        "                else:\n",
        "                    above_ma_volume_counter = 0\n",
        "                if above_ma_volume_counter == 2:\n",
        "                    position = 0\n",
        "                    entry_price = None\n",
        "                    stop_loss_price = None\n",
        "                    above_ma_volume_counter = 0\n",
        "                    data.at[index, 'Sell_Date'] = row['Close']\n",
        "        elif position == -1:\n",
        "            if row['Close'] >= stop_loss_price:\n",
        "                position = 0\n",
        "                entry_price = None\n",
        "                stop_loss_price = None\n",
        "                above_ma_volume_counter = 0\n",
        "                data.at[index, 'Buy_Date'] = row['Close']\n",
        "            elif row['Close'] < row['100_MA']:\n",
        "                if row['Volume'] > data.at[index, 'Rolling_Volume_Mean']:  # High volume\n",
        "                    above_ma_volume_counter += 1\n",
        "                else:\n",
        "                    above_ma_volume_counter = 0\n",
        "                if above_ma_volume_counter == 2:\n",
        "                    position = 0\n",
        "                    entry_price = None\n",
        "                    stop_loss_price = None\n",
        "                    above_ma_volume_counter = 0\n",
        "                    data.at[index, 'Buy_Date'] = row['Close']  # Exit for short\n"
      ],
      "metadata": {
        "id": "GLTmi_OZe1TB"
      },
      "execution_count": null,
      "outputs": []
    },
    {
      "cell_type": "code",
      "source": [
        "# Filter data for the trade timeframe\n",
        "trade_start_date = pd.to_datetime(trade_date)\n",
        "trade_end_date = data.loc[data['Sell_Date'].notnull()].index.max()\n"
      ],
      "metadata": {
        "id": "YlAWeh9NmC2C"
      },
      "execution_count": null,
      "outputs": []
    },
    {
      "cell_type": "code",
      "source": [
        "if trade_end_date is None or trade_end_date < trade_start_date:\n",
        "    trade_end_date = data.index[-1]  # Use the last date in the dataset if no sell occurred or invalid end date\n",
        "\n",
        "trade_data = data[(data.index >= trade_start_date) & (data.index <= trade_end_date)]\n",
        "\n",
        "if trade_data.empty:\n",
        "    print(\"No data available for the specified trade timeframe. Please check your inputs.\")\n",
        "else:\n",
        "    plt.figure(figsize=(14, 7))\n",
        "    plt.plot(trade_data.index, trade_data['Close'], label='Close Price', alpha=0.5)\n",
        "    plt.scatter(trade_data.index, trade_data['Buy_Date'], label='Buy Trigger', marker='^', color='green')\n",
        "    plt.scatter(trade_data.index, trade_data['Sell_Date'], label='Sell Trigger', marker='v', color='red')\n",
        "    plt.plot(trade_data.index, trade_data['100_MA'], label='100 MA', linestyle='--', color='blue')\n",
        "    plt.legend()\n",
        "    plt.title('Trade Timeframe Plot with P&L')\n",
        "    plt.xlabel('Date')\n",
        "    plt.ylabel('Close Price')\n",
        "    plt.show()\n",
        "\n",
        "    # Calculate Profit or Loss\n",
        "    if position == 0:\n",
        "        buy_row = data.loc[data['Buy_Date'].notnull()]\n",
        "        sell_row = data.loc[data['Sell_Date'].notnull()]\n",
        "\n",
        "        if not buy_row.empty and not sell_row.empty:\n",
        "            buy_price = buy_row['Buy_Date'].iloc[0]\n",
        "            sell_price = sell_row['Sell_Date'].iloc[0]\n",
        "            exit_date = sell_row.index[0].strftime('%Y-%m-%d')\n",
        "            profit_loss = sell_price - buy_price if action == \"buy\" else buy_price - sell_price\n",
        "            profit_loss = round(profit_loss, 2)\n",
        "\n",
        "            print(f\"Entry Price: {buy_price}\")\n",
        "            print(f\"Exit Price: {sell_price}\")\n",
        "            print(f\"Exit Date: {exit_date}\")\n",
        "            print(f\"Profit or Loss for the trade: {'+' if profit_loss > 0 else ''}{profit_loss}\")\n",
        "        else:\n",
        "            print(\"No valid buy or sell points found in the data.\")\n",
        "    else:\n",
        "        print(\"The trade is still open. No P&L calculated.\")\n"
      ],
      "metadata": {
        "colab": {
          "base_uri": "https://localhost:8080/",
          "height": 710
        },
        "id": "1wBlvyhEm9uO",
        "outputId": "aceacf3a-76f3-470f-abbd-b9fbf9d15c23"
      },
      "execution_count": null,
      "outputs": [
        {
          "output_type": "display_data",
          "data": {
            "text/plain": [
              "<Figure size 1400x700 with 1 Axes>"
            ],
            "image/png": "[encoded data removed]"
          },
          "metadata": {}
        },
        {
          "output_type": "stream",
          "name": "stdout",
          "text": [
            "Entry Price: 133.18\n",
            "Exit Price: 151.7\n",
            "Exit Date: 2020-06-25\n",
            "Profit or Loss for the trade: +18.52\n"
          ]
        }
      ]
    },
    {
      "cell_type": "code",
      "source": [],
      "metadata": {
        "id": "k2HmtDMenFCm"
      },
      "execution_count": null,
      "outputs": []
    },
    {
      "cell_type": "code",
      "source": [],
      "metadata": {
        "id": "PFEAi89KnILy"
      },
      "execution_count": null,
      "outputs": []
    }
  ]
}